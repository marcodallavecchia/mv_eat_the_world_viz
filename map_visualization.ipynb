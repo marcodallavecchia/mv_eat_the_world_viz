{
 "cells": [
  {
   "cell_type": "code",
   "execution_count": 1,
   "metadata": {},
   "outputs": [
    {
     "data": {
      "text/html": [
       "        <script type=\"text/javascript\">\n",
       "        window.PlotlyConfig = {MathJaxConfig: 'local'};\n",
       "        if (window.MathJax) {MathJax.Hub.Config({SVG: {font: \"STIX-Web\"}});}\n",
       "        if (typeof require !== 'undefined') {\n",
       "        require.undef(\"plotly\");\n",
       "        requirejs.config({\n",
       "            paths: {\n",
       "                'plotly': ['https://cdn.plot.ly/plotly-latest.min']\n",
       "            }\n",
       "        });\n",
       "        require(['plotly'], function(Plotly) {\n",
       "            window._Plotly = Plotly;\n",
       "        });\n",
       "        }\n",
       "        </script>\n",
       "        "
      ]
     },
     "metadata": {},
     "output_type": "display_data"
    }
   ],
   "source": [
    "import pandas as pd\n",
    "import numpy as np\n",
    "import plotly\n",
    "from plotly import express as px\n",
    "import plotly.figure_factory as ff\n",
    "from plotly.offline import download_plotlyjs, init_notebook_mode, plot, iplot\n",
    "init_notebook_mode(connected=True)"
   ]
  },
  {
   "cell_type": "code",
   "execution_count": 2,
   "metadata": {},
   "outputs": [],
   "source": [
    "df = pd.read_csv(\"data/country_codes_food.csv\")\n",
    "\n",
    "df.loc[df['COUNTRY'] == \"India\", \"FOOD\"] = \"Officially none\"\n",
    "\n",
    "country_we_tried = ['Taiwan',\n",
    "                   'Japan',\n",
    "                   'Philippines',\n",
    "                   'French Polynesia',\n",
    "                   'Zambia']\n",
    "\n",
    "missing_countries = \"<br>\"+\"French Polynesia\"+\"<br>\"\n",
    "\n",
    "df['TRIED'] = \"NO\"\n",
    "df.loc[df['COUNTRY'].isin(country_we_tried),'TRIED'] = 'YES'"
   ]
  },
  {
   "cell_type": "code",
   "execution_count": 12,
   "metadata": {},
   "outputs": [
    {
     "data": {
      "application/vnd.plotly.v1+json": {
       "config": {
        "plotlyServerURL": "https://plot.ly"
       },
       "data": [
        {
         "colorscale": [
          [
           0,
           "mediumseagreen"
          ],
          [
           1,
           "mediumseagreen"
          ]
         ],
         "customdata": [
          [
           "Taiwan",
           "YES"
          ],
          [
           "French Polynesia",
           "YES"
          ],
          [
           "Japan",
           "YES"
          ],
          [
           "Philippines",
           "YES"
          ],
          [
           "Zambia",
           "YES"
          ]
         ],
         "geo": "geo",
         "hovertemplate": "<b>%{hovertext}</b><br><br>TRIED=%{customdata[1]}<br>CODE=%{location}<br>COUNTRY=%{customdata[0]}<extra></extra>",
         "hovertext": [
          "Beef noodle soup",
          null,
          "Sushi",
          "Adobo",
          "Nshima"
         ],
         "locations": [
          "TWN",
          "PYF",
          "JPN",
          "PHL",
          "ZMB"
         ],
         "name": "YES",
         "showlegend": true,
         "showscale": false,
         "type": "choropleth",
         "z": [
          1,
          1,
          1,
          1,
          1
         ]
        },
        {
         "colorscale": [
          [
           0,
           "lightsalmon"
          ],
          [
           1,
           "lightsalmon"
          ]
         ],
         "customdata": [
          [
           "Afghanistan",
           "NO"
          ],
          [
           "Albania",
           "NO"
          ],
          [
           "Algeria",
           "NO"
          ],
          [
           "American Samoa",
           "NO"
          ],
          [
           "Andorra",
           "NO"
          ],
          [
           "Angola",
           "NO"
          ],
          [
           "Anguilla",
           "NO"
          ],
          [
           "Antarctica",
           "NO"
          ],
          [
           "Antigua & Barbuda",
           "NO"
          ],
          [
           "Argentina",
           "NO"
          ],
          [
           "Armenia",
           "NO"
          ],
          [
           "Aruba",
           "NO"
          ],
          [
           "Australia",
           "NO"
          ],
          [
           "Austria",
           "NO"
          ],
          [
           "Azerbaijan",
           "NO"
          ],
          [
           "Bahamas",
           "NO"
          ],
          [
           "Bahrain",
           "NO"
          ],
          [
           "Bangladesh",
           "NO"
          ],
          [
           "Barbados",
           "NO"
          ],
          [
           "Belarus",
           "NO"
          ],
          [
           "Belgium",
           "NO"
          ],
          [
           "Belize",
           "NO"
          ],
          [
           "Benin",
           "NO"
          ],
          [
           "Bermuda",
           "NO"
          ],
          [
           "Bhutan",
           "NO"
          ],
          [
           "Bolivia",
           "NO"
          ],
          [
           "Caribbean Netherlands",
           "NO"
          ],
          [
           "Bosnia",
           "NO"
          ],
          [
           "Botswana",
           "NO"
          ],
          [
           "Bouvet Island",
           "NO"
          ],
          [
           "Brazil",
           "NO"
          ],
          [
           "British Indian Ocean Territory",
           "NO"
          ],
          [
           "British Virgin Islands",
           "NO"
          ],
          [
           "Brunei",
           "NO"
          ],
          [
           "Bulgaria",
           "NO"
          ],
          [
           "Burkina Faso",
           "NO"
          ],
          [
           "Burundi",
           "NO"
          ],
          [
           "Cape Verde",
           "NO"
          ],
          [
           "Cambodia",
           "NO"
          ],
          [
           "Cameroon",
           "NO"
          ],
          [
           "Canada",
           "NO"
          ],
          [
           "Cayman Islands",
           "NO"
          ],
          [
           "Central African Republic",
           "NO"
          ],
          [
           "Chad",
           "NO"
          ],
          [
           "Chile",
           "NO"
          ],
          [
           "China",
           "NO"
          ],
          [
           "Hong Kong",
           "NO"
          ],
          [
           "Macau",
           "NO"
          ],
          [
           "Christmas Island",
           "NO"
          ],
          [
           "Cocos (Keeling) Islands",
           "NO"
          ],
          [
           "Colombia",
           "NO"
          ],
          [
           "Comoros",
           "NO"
          ],
          [
           "Congo - Brazzaville",
           "NO"
          ],
          [
           "Cook Islands",
           "NO"
          ],
          [
           "Costa Rica",
           "NO"
          ],
          [
           "Croatia",
           "NO"
          ],
          [
           "Cuba",
           "NO"
          ],
          [
           "Curaçao",
           "NO"
          ],
          [
           "Cyprus",
           "NO"
          ],
          [
           "Czechia",
           "NO"
          ],
          [
           "Côte d’Ivoire",
           "NO"
          ],
          [
           "North Korea",
           "NO"
          ],
          [
           "Congo - Kinshasa",
           "NO"
          ],
          [
           "Denmark",
           "NO"
          ],
          [
           "Djibouti",
           "NO"
          ],
          [
           "Dominica",
           "NO"
          ],
          [
           "Dominican Republic",
           "NO"
          ],
          [
           "Ecuador",
           "NO"
          ],
          [
           "Egypt",
           "NO"
          ],
          [
           "El Salvador",
           "NO"
          ],
          [
           "Equatorial Guinea",
           "NO"
          ],
          [
           "Eritrea",
           "NO"
          ],
          [
           "Estonia",
           "NO"
          ],
          [
           "Eswatini",
           "NO"
          ],
          [
           "Ethiopia",
           "NO"
          ],
          [
           "Falkland Islands",
           "NO"
          ],
          [
           "Faroe Islands",
           "NO"
          ],
          [
           "Fiji",
           "NO"
          ],
          [
           "Finland",
           "NO"
          ],
          [
           "France",
           "NO"
          ],
          [
           "French Guiana",
           "NO"
          ],
          [
           "French Southern Territories",
           "NO"
          ],
          [
           "Gabon",
           "NO"
          ],
          [
           "Gambia",
           "NO"
          ],
          [
           "Georgia",
           "NO"
          ],
          [
           "Germany",
           "NO"
          ],
          [
           "Ghana",
           "NO"
          ],
          [
           "Gibraltar",
           "NO"
          ],
          [
           "Greece",
           "NO"
          ],
          [
           "Greenland",
           "NO"
          ],
          [
           "Grenada",
           "NO"
          ],
          [
           "Guadeloupe",
           "NO"
          ],
          [
           "Guam",
           "NO"
          ],
          [
           "Guatemala",
           "NO"
          ],
          [
           "Guernsey",
           "NO"
          ],
          [
           "Guinea",
           "NO"
          ],
          [
           "Guinea-Bissau",
           "NO"
          ],
          [
           "Guyana",
           "NO"
          ],
          [
           "Haiti",
           "NO"
          ],
          [
           "Heard & McDonald Islands",
           "NO"
          ],
          [
           "Vatican City",
           "NO"
          ],
          [
           "Honduras",
           "NO"
          ],
          [
           "Hungary",
           "NO"
          ],
          [
           "Iceland",
           "NO"
          ],
          [
           "India",
           "NO"
          ],
          [
           "Indonesia",
           "NO"
          ],
          [
           "Iran",
           "NO"
          ],
          [
           "Iraq",
           "NO"
          ],
          [
           "Ireland",
           "NO"
          ],
          [
           "Isle of Man",
           "NO"
          ],
          [
           "Israel",
           "NO"
          ],
          [
           "Italy",
           "NO"
          ],
          [
           "Jamaica",
           "NO"
          ],
          [
           "Jersey",
           "NO"
          ],
          [
           "Jordan",
           "NO"
          ],
          [
           "Kazakhstan",
           "NO"
          ],
          [
           "Kenya",
           "NO"
          ],
          [
           "Kiribati",
           "NO"
          ],
          [
           "Kuwait",
           "NO"
          ],
          [
           "Kyrgyzstan",
           "NO"
          ],
          [
           "Laos",
           "NO"
          ],
          [
           "Latvia",
           "NO"
          ],
          [
           "Lebanon",
           "NO"
          ],
          [
           "Lesotho",
           "NO"
          ],
          [
           "Liberia",
           "NO"
          ],
          [
           "Libya",
           "NO"
          ],
          [
           "Liechtenstein",
           "NO"
          ],
          [
           "Lithuania",
           "NO"
          ],
          [
           "Luxembourg",
           "NO"
          ],
          [
           "Madagascar",
           "NO"
          ],
          [
           "Malawi",
           "NO"
          ],
          [
           "Malaysia",
           "NO"
          ],
          [
           "Maldives",
           "NO"
          ],
          [
           "Mali",
           "NO"
          ],
          [
           "Malta",
           "NO"
          ],
          [
           "Marshall Islands",
           "NO"
          ],
          [
           "Martinique",
           "NO"
          ],
          [
           "Mauritania",
           "NO"
          ],
          [
           "Mauritius",
           "NO"
          ],
          [
           "Mayotte",
           "NO"
          ],
          [
           "Mexico",
           "NO"
          ],
          [
           "Micronesia",
           "NO"
          ],
          [
           "Monaco",
           "NO"
          ],
          [
           "Mongolia",
           "NO"
          ],
          [
           "Montenegro",
           "NO"
          ],
          [
           "Montserrat",
           "NO"
          ],
          [
           "Morocco",
           "NO"
          ],
          [
           "Mozambique",
           "NO"
          ],
          [
           "Myanmar",
           "NO"
          ],
          [
           "Namibia",
           "NO"
          ],
          [
           "Nauru",
           "NO"
          ],
          [
           "Nepal",
           "NO"
          ],
          [
           "Netherlands",
           "NO"
          ],
          [
           "New Caledonia",
           "NO"
          ],
          [
           "New Zealand",
           "NO"
          ],
          [
           "Nicaragua",
           "NO"
          ],
          [
           "Niger",
           "NO"
          ],
          [
           "Nigeria",
           "NO"
          ],
          [
           "Niue",
           "NO"
          ],
          [
           "Norfolk Island",
           "NO"
          ],
          [
           "Northern Mariana Islands",
           "NO"
          ],
          [
           "Norway",
           "NO"
          ],
          [
           "Oman",
           "NO"
          ],
          [
           "Pakistan",
           "NO"
          ],
          [
           "Palau",
           "NO"
          ],
          [
           "Panama",
           "NO"
          ],
          [
           "Papua New Guinea",
           "NO"
          ],
          [
           "Paraguay",
           "NO"
          ],
          [
           "Peru",
           "NO"
          ],
          [
           "Pitcairn Islands",
           "NO"
          ],
          [
           "Poland",
           "NO"
          ],
          [
           "Portugal",
           "NO"
          ],
          [
           "Puerto Rico",
           "NO"
          ],
          [
           "Qatar",
           "NO"
          ],
          [
           "South Korea",
           "NO"
          ],
          [
           "Moldova",
           "NO"
          ],
          [
           "Romania",
           "NO"
          ],
          [
           "Russia",
           "NO"
          ],
          [
           "Rwanda",
           "NO"
          ],
          [
           "Réunion",
           "NO"
          ],
          [
           "St. Barthélemy",
           "NO"
          ],
          [
           "St. Helena",
           "NO"
          ],
          [
           "St. Kitts & Nevis",
           "NO"
          ],
          [
           "St. Lucia",
           "NO"
          ],
          [
           "St. Martin",
           "NO"
          ],
          [
           "St. Pierre & Miquelon",
           "NO"
          ],
          [
           "St. Vincent & Grenadines",
           "NO"
          ],
          [
           "Samoa",
           "NO"
          ],
          [
           "San Marino",
           "NO"
          ],
          [
           "São Tomé & Príncipe",
           "NO"
          ],
          [
           null,
           "NO"
          ],
          [
           "Saudi Arabia",
           "NO"
          ],
          [
           "Senegal",
           "NO"
          ],
          [
           "Serbia",
           "NO"
          ],
          [
           "Seychelles",
           "NO"
          ],
          [
           "Sierra Leone",
           "NO"
          ],
          [
           "Singapore",
           "NO"
          ],
          [
           "Sint Maarten",
           "NO"
          ],
          [
           "Slovakia",
           "NO"
          ],
          [
           "Slovenia",
           "NO"
          ],
          [
           "Solomon Islands",
           "NO"
          ],
          [
           "Somalia",
           "NO"
          ],
          [
           "South Africa",
           "NO"
          ],
          [
           "South Georgia & South Sandwich Islands",
           "NO"
          ],
          [
           "South Sudan",
           "NO"
          ],
          [
           "Spain",
           "NO"
          ],
          [
           "Sri Lanka",
           "NO"
          ],
          [
           "Palestine",
           "NO"
          ],
          [
           "Sudan",
           "NO"
          ],
          [
           "Suriname",
           "NO"
          ],
          [
           "Svalbard & Jan Mayen",
           "NO"
          ],
          [
           "Sweden",
           "NO"
          ],
          [
           "Switzerland",
           "NO"
          ],
          [
           "Syria",
           "NO"
          ],
          [
           "Tajikistan",
           "NO"
          ],
          [
           "Thailand",
           "NO"
          ],
          [
           "North Macedonia",
           "NO"
          ],
          [
           "Timor-Leste",
           "NO"
          ],
          [
           "Togo",
           "NO"
          ],
          [
           "Tokelau",
           "NO"
          ],
          [
           "Tonga",
           "NO"
          ],
          [
           "Trinidad & Tobago",
           "NO"
          ],
          [
           "Tunisia",
           "NO"
          ],
          [
           "Turkey",
           "NO"
          ],
          [
           "Turkmenistan",
           "NO"
          ],
          [
           "Turks & Caicos Islands",
           "NO"
          ],
          [
           "Tuvalu",
           "NO"
          ],
          [
           "Uganda",
           "NO"
          ],
          [
           "Ukraine",
           "NO"
          ],
          [
           "United Arab Emirates",
           "NO"
          ],
          [
           "UK",
           "NO"
          ],
          [
           "Tanzania",
           "NO"
          ],
          [
           "U.S. Outlying Islands",
           "NO"
          ],
          [
           "U.S. Virgin Islands",
           "NO"
          ],
          [
           "US",
           "NO"
          ],
          [
           "Uruguay",
           "NO"
          ],
          [
           "Uzbekistan",
           "NO"
          ],
          [
           "Vanuatu",
           "NO"
          ],
          [
           "Venezuela",
           "NO"
          ],
          [
           "Vietnam",
           "NO"
          ],
          [
           "Wallis & Futuna",
           "NO"
          ],
          [
           "Western Sahara",
           "NO"
          ],
          [
           "Yemen",
           "NO"
          ],
          [
           "Zimbabwe",
           "NO"
          ],
          [
           "Åland Islands",
           "NO"
          ]
         ],
         "geo": "geo",
         "hovertemplate": "<b>%{hovertext}</b><br><br>TRIED=%{customdata[1]}<br>CODE=%{location}<br>COUNTRY=%{customdata[0]}<extra></extra>",
         "hovertext": [
          "Kabuli palaw",
          "Tavë kosi",
          "Couscous",
          "Palusami",
          "Escudella i carn d'olla",
          "Poulet à la moambé",
          null,
          null,
          null,
          "Asado",
          "Harisa",
          null,
          "Roast lamb",
          "Wiener schnitzel",
          "Tolma",
          "Crack conch with peas and rice",
          "Kabsa",
          "Rice and fish (particularly ilish)",
          "Cou-cou and flying fish",
          null,
          "Frites",
          null,
          null,
          null,
          "Ema datshi",
          "Salteñas",
          null,
          null,
          "Seswaa",
          null,
          "Feijoada",
          null,
          null,
          "Ambuyat",
          null,
          null,
          null,
          null,
          "Amok trey",
          "Ndole",
          "Poutine",
          null,
          null,
          null,
          "Empanada",
          null,
          "Dim sum",
          "Minchee",
          null,
          null,
          "Ajiaco",
          "Langouste a la vanille",
          null,
          null,
          "Gallo Pinto",
          "Zagorski Štrukli",
          "Ropa vieja",
          null,
          "Souvla",
          null,
          null,
          "Raengmyeon",
          null,
          "Stegt Flæsk",
          null,
          "Mountain chicken (historical) Callaloo",
          "La bandera (rice beans and meat)",
          "Encebollado",
          "Ful medames",
          "Pupusa",
          null,
          "Zigini with injera",
          null,
          null,
          "Doro wat with injera",
          null,
          null,
          null,
          "Karjalanpaisti",
          "Pot-au-feu",
          null,
          null,
          "Poulet Nyembwe",
          null,
          "Khachapuri",
          "Sauerbraten",
          null,
          null,
          "Horiatiki",
          null,
          "Oil down",
          null,
          "Kelaguen",
          null,
          null,
          null,
          null,
          "Pepperpot Cook-up rice and Chicken curry",
          null,
          null,
          null,
          null,
          "Gulyás",
          "Lamb",
          "Officially none",
          "Nasi goreng",
          "Abgoosht",
          "Masgouf",
          "Breakfast roll",
          null,
          "Falafel ( served in pita)",
          "Pasta",
          "Ackee and Saltfish Jerk chicken",
          null,
          "Mansaf",
          "Beshbarmak",
          "Ugali with sukuma wiki",
          null,
          null,
          "Beshbarmak",
          "Larb/Laap",
          "Layered rye bread",
          "Kibbeh",
          null,
          null,
          null,
          null,
          "Cepelinai",
          "Judd mat Gaardebounen",
          "Romazava",
          "Chambo with nshima",
          "Nasi lemak",
          null,
          null,
          "Stuffat tal-fenek",
          null,
          null,
          null,
          "Dholl puri (flatbread stuffed with lentils)",
          null,
          "Taco",
          null,
          "Barbagiuan",
          null,
          null,
          null,
          "Couscous",
          null,
          "Mohinga",
          null,
          null,
          "Dal bhat",
          "Stamppot",
          null,
          "Meat pie",
          "Nacatamal",
          null,
          "Tuwo shinkafa",
          null,
          null,
          "Kelaguen",
          "Fårikål",
          "Shuwa",
          "Nihari",
          null,
          "Sancocho",
          null,
          null,
          "Ceviche",
          null,
          "Bigos",
          "Bacalhau",
          "Lechon",
          "Machboos",
          "Kimchi",
          null,
          "Mămăligă",
          "Borscht",
          null,
          null,
          null,
          null,
          null,
          null,
          null,
          null,
          null,
          null,
          null,
          null,
          null,
          "Kabsa",
          "Thieboudienne",
          "Ćevapčići",
          null,
          null,
          "Chilli crab",
          null,
          "Bryndzové halušky",
          "Buckwheat dumplings",
          null,
          null,
          "Bobotie",
          null,
          null,
          "Tortilla de patatas",
          "Rice and curry",
          "Maqluba",
          null,
          "Pom",
          null,
          "Köttbullar",
          "Cervelat",
          "Kibbeh",
          "Osh Palov",
          "Pad Thai Tom yum",
          null,
          null,
          null,
          null,
          null,
          null,
          "Kosksi",
          "Kuru fasulye with pilaf/pilau",
          null,
          null,
          null,
          "Matooke",
          "Borscht",
          "Harees",
          null,
          "Ugali",
          null,
          null,
          null,
          "Chivito",
          "O'sh",
          "Laplap",
          "Pabellón criollo",
          "Phở",
          null,
          null,
          "Saltah",
          "Sadza",
          null
         ],
         "locations": [
          "AFG",
          "ALB",
          "DZA",
          "ASM",
          "AND",
          "AGO",
          "AIA",
          "ATA",
          "ATG",
          "ARG",
          "ARM",
          "ABW",
          "AUS",
          "AUT",
          "AZE",
          "BHS",
          "BHR",
          "BGD",
          "BRB",
          "BLR",
          "BEL",
          "BLZ",
          "BEN",
          "BMU",
          "BTN",
          "BOL",
          "BES",
          "BIH",
          "BWA",
          "BVT",
          "BRA",
          "IOT",
          "VGB",
          "BRN",
          "BGR",
          "BFA",
          "BDI",
          "CPV",
          "KHM",
          "CMR",
          "CAN",
          "CYM",
          "CAF",
          "TCD",
          "CHL",
          "CHN",
          "HKG",
          "MAC",
          "CXR",
          "CCK",
          "COL",
          "COM",
          "COG",
          "COK",
          "CRI",
          "HRV",
          "CUB",
          "CUW",
          "CYP",
          "CZE",
          "CIV",
          "PRK",
          "COD",
          "DNK",
          "DJI",
          "DMA",
          "DOM",
          "ECU",
          "EGY",
          "SLV",
          "GNQ",
          "ERI",
          "EST",
          "SWZ",
          "ETH",
          "FLK",
          "FRO",
          "FJI",
          "FIN",
          "FRA",
          "GUF",
          "ATF",
          "GAB",
          "GMB",
          "GEO",
          "DEU",
          "GHA",
          "GIB",
          "GRC",
          "GRL",
          "GRD",
          "GLP",
          "GUM",
          "GTM",
          "GGY",
          "GIN",
          "GNB",
          "GUY",
          "HTI",
          "HMD",
          "VAT",
          "HND",
          "HUN",
          "ISL",
          "IND",
          "IDN",
          "IRN",
          "IRQ",
          "IRL",
          "IMN",
          "ISR",
          "ITA",
          "JAM",
          "JEY",
          "JOR",
          "KAZ",
          "KEN",
          "KIR",
          "KWT",
          "KGZ",
          "LAO",
          "LVA",
          "LBN",
          "LSO",
          "LBR",
          "LBY",
          "LIE",
          "LTU",
          "LUX",
          "MDG",
          "MWI",
          "MYS",
          "MDV",
          "MLI",
          "MLT",
          "MHL",
          "MTQ",
          "MRT",
          "MUS",
          "MYT",
          "MEX",
          "FSM",
          "MCO",
          "MNG",
          "MNE",
          "MSR",
          "MAR",
          "MOZ",
          "MMR",
          "NAM",
          "NRU",
          "NPL",
          "NLD",
          "NCL",
          "NZL",
          "NIC",
          "NER",
          "NGA",
          "NIU",
          "NFK",
          "MNP",
          "NOR",
          "OMN",
          "PAK",
          "PLW",
          "PAN",
          "PNG",
          "PRY",
          "PER",
          "PCN",
          "POL",
          "PRT",
          "PRI",
          "QAT",
          "KOR",
          "MDA",
          "ROU",
          "RUS",
          "RWA",
          "REU",
          "BLM",
          "SHN",
          "KNA",
          "LCA",
          "MAF",
          "SPM",
          "VCT",
          "WSM",
          "SMR",
          "STP",
          null,
          "SAU",
          "SEN",
          "SRB",
          "SYC",
          "SLE",
          "SGP",
          "SXM",
          "SVK",
          "SVN",
          "SLB",
          "SOM",
          "ZAF",
          "SGS",
          "SSD",
          "ESP",
          "LKA",
          "PSE",
          "SDN",
          "SUR",
          "SJM",
          "SWE",
          "CHE",
          "SYR",
          "TJK",
          "THA",
          "MKD",
          "TLS",
          "TGO",
          "TKL",
          "TON",
          "TTO",
          "TUN",
          "TUR",
          "TKM",
          "TCA",
          "TUV",
          "UGA",
          "UKR",
          "ARE",
          "GBR",
          "TZA",
          "UMI",
          "VIR",
          "USA",
          "URY",
          "UZB",
          "VUT",
          "VEN",
          "VNM",
          "WLF",
          "ESH",
          "YEM",
          "ZWE",
          "ALA"
         ],
         "name": "NO",
         "showlegend": true,
         "showscale": false,
         "type": "choropleth",
         "z": [
          1,
          1,
          1,
          1,
          1,
          1,
          1,
          1,
          1,
          1,
          1,
          1,
          1,
          1,
          1,
          1,
          1,
          1,
          1,
          1,
          1,
          1,
          1,
          1,
          1,
          1,
          1,
          1,
          1,
          1,
          1,
          1,
          1,
          1,
          1,
          1,
          1,
          1,
          1,
          1,
          1,
          1,
          1,
          1,
          1,
          1,
          1,
          1,
          1,
          1,
          1,
          1,
          1,
          1,
          1,
          1,
          1,
          1,
          1,
          1,
          1,
          1,
          1,
          1,
          1,
          1,
          1,
          1,
          1,
          1,
          1,
          1,
          1,
          1,
          1,
          1,
          1,
          1,
          1,
          1,
          1,
          1,
          1,
          1,
          1,
          1,
          1,
          1,
          1,
          1,
          1,
          1,
          1,
          1,
          1,
          1,
          1,
          1,
          1,
          1,
          1,
          1,
          1,
          1,
          1,
          1,
          1,
          1,
          1,
          1,
          1,
          1,
          1,
          1,
          1,
          1,
          1,
          1,
          1,
          1,
          1,
          1,
          1,
          1,
          1,
          1,
          1,
          1,
          1,
          1,
          1,
          1,
          1,
          1,
          1,
          1,
          1,
          1,
          1,
          1,
          1,
          1,
          1,
          1,
          1,
          1,
          1,
          1,
          1,
          1,
          1,
          1,
          1,
          1,
          1,
          1,
          1,
          1,
          1,
          1,
          1,
          1,
          1,
          1,
          1,
          1,
          1,
          1,
          1,
          1,
          1,
          1,
          1,
          1,
          1,
          1,
          1,
          1,
          1,
          1,
          1,
          1,
          1,
          1,
          1,
          1,
          1,
          1,
          1,
          1,
          1,
          1,
          1,
          1,
          1,
          1,
          1,
          1,
          1,
          1,
          1,
          1,
          1,
          1,
          1,
          1,
          1,
          1,
          1,
          1,
          1,
          1,
          1,
          1,
          1,
          1,
          1,
          1,
          1,
          1,
          1,
          1,
          1,
          1,
          1,
          1,
          1,
          1,
          1,
          1,
          1,
          1,
          1,
          1,
          1,
          1,
          1,
          1,
          1,
          1,
          1,
          1,
          1,
          1,
          1
         ]
        }
       ],
       "layout": {
        "annotations": [
         {
          "bordercolor": "black",
          "showarrow": false,
          "text": "<b>Missing Countries</b><br>French Polynesia<br>",
          "x": -0.18,
          "xref": "paper",
          "y": 0.5,
          "yref": "paper"
         },
         {
          "opacity": 0.5,
          "showarrow": false,
          "text": "typical foods from <a href=\"https://en.wikipedia.org/wiki/National_dish\">wikpedia</a>",
          "x": 1.16,
          "xref": "paper",
          "y": 0,
          "yref": "paper"
         }
        ],
        "autosize": false,
        "geo": {
         "center": {},
         "domain": {
          "x": [
           0,
           1
          ],
          "y": [
           0,
           1
          ]
         },
         "projection": {
          "type": "natural earth"
         }
        },
        "height": 500,
        "legend": {
         "title": {
          "text": "Did we try the food <br> of this country?"
         },
         "tracegroupgap": 0
        },
        "margin": {
         "b": 20,
         "l": 150,
         "r": 20,
         "t": 20
        },
        "paper_bgcolor": "white",
        "template": {
         "data": {
          "bar": [
           {
            "error_x": {
             "color": "#2a3f5f"
            },
            "error_y": {
             "color": "#2a3f5f"
            },
            "marker": {
             "line": {
              "color": "#E5ECF6",
              "width": 0.5
             }
            },
            "type": "bar"
           }
          ],
          "barpolar": [
           {
            "marker": {
             "line": {
              "color": "#E5ECF6",
              "width": 0.5
             }
            },
            "type": "barpolar"
           }
          ],
          "carpet": [
           {
            "aaxis": {
             "endlinecolor": "#2a3f5f",
             "gridcolor": "white",
             "linecolor": "white",
             "minorgridcolor": "white",
             "startlinecolor": "#2a3f5f"
            },
            "baxis": {
             "endlinecolor": "#2a3f5f",
             "gridcolor": "white",
             "linecolor": "white",
             "minorgridcolor": "white",
             "startlinecolor": "#2a3f5f"
            },
            "type": "carpet"
           }
          ],
          "choropleth": [
           {
            "colorbar": {
             "outlinewidth": 0,
             "ticks": ""
            },
            "type": "choropleth"
           }
          ],
          "contour": [
           {
            "colorbar": {
             "outlinewidth": 0,
             "ticks": ""
            },
            "colorscale": [
             [
              0,
              "#0d0887"
             ],
             [
              0.1111111111111111,
              "#46039f"
             ],
             [
              0.2222222222222222,
              "#7201a8"
             ],
             [
              0.3333333333333333,
              "#9c179e"
             ],
             [
              0.4444444444444444,
              "#bd3786"
             ],
             [
              0.5555555555555556,
              "#d8576b"
             ],
             [
              0.6666666666666666,
              "#ed7953"
             ],
             [
              0.7777777777777778,
              "#fb9f3a"
             ],
             [
              0.8888888888888888,
              "#fdca26"
             ],
             [
              1,
              "#f0f921"
             ]
            ],
            "type": "contour"
           }
          ],
          "contourcarpet": [
           {
            "colorbar": {
             "outlinewidth": 0,
             "ticks": ""
            },
            "type": "contourcarpet"
           }
          ],
          "heatmap": [
           {
            "colorbar": {
             "outlinewidth": 0,
             "ticks": ""
            },
            "colorscale": [
             [
              0,
              "#0d0887"
             ],
             [
              0.1111111111111111,
              "#46039f"
             ],
             [
              0.2222222222222222,
              "#7201a8"
             ],
             [
              0.3333333333333333,
              "#9c179e"
             ],
             [
              0.4444444444444444,
              "#bd3786"
             ],
             [
              0.5555555555555556,
              "#d8576b"
             ],
             [
              0.6666666666666666,
              "#ed7953"
             ],
             [
              0.7777777777777778,
              "#fb9f3a"
             ],
             [
              0.8888888888888888,
              "#fdca26"
             ],
             [
              1,
              "#f0f921"
             ]
            ],
            "type": "heatmap"
           }
          ],
          "heatmapgl": [
           {
            "colorbar": {
             "outlinewidth": 0,
             "ticks": ""
            },
            "colorscale": [
             [
              0,
              "#0d0887"
             ],
             [
              0.1111111111111111,
              "#46039f"
             ],
             [
              0.2222222222222222,
              "#7201a8"
             ],
             [
              0.3333333333333333,
              "#9c179e"
             ],
             [
              0.4444444444444444,
              "#bd3786"
             ],
             [
              0.5555555555555556,
              "#d8576b"
             ],
             [
              0.6666666666666666,
              "#ed7953"
             ],
             [
              0.7777777777777778,
              "#fb9f3a"
             ],
             [
              0.8888888888888888,
              "#fdca26"
             ],
             [
              1,
              "#f0f921"
             ]
            ],
            "type": "heatmapgl"
           }
          ],
          "histogram": [
           {
            "marker": {
             "colorbar": {
              "outlinewidth": 0,
              "ticks": ""
             }
            },
            "type": "histogram"
           }
          ],
          "histogram2d": [
           {
            "colorbar": {
             "outlinewidth": 0,
             "ticks": ""
            },
            "colorscale": [
             [
              0,
              "#0d0887"
             ],
             [
              0.1111111111111111,
              "#46039f"
             ],
             [
              0.2222222222222222,
              "#7201a8"
             ],
             [
              0.3333333333333333,
              "#9c179e"
             ],
             [
              0.4444444444444444,
              "#bd3786"
             ],
             [
              0.5555555555555556,
              "#d8576b"
             ],
             [
              0.6666666666666666,
              "#ed7953"
             ],
             [
              0.7777777777777778,
              "#fb9f3a"
             ],
             [
              0.8888888888888888,
              "#fdca26"
             ],
             [
              1,
              "#f0f921"
             ]
            ],
            "type": "histogram2d"
           }
          ],
          "histogram2dcontour": [
           {
            "colorbar": {
             "outlinewidth": 0,
             "ticks": ""
            },
            "colorscale": [
             [
              0,
              "#0d0887"
             ],
             [
              0.1111111111111111,
              "#46039f"
             ],
             [
              0.2222222222222222,
              "#7201a8"
             ],
             [
              0.3333333333333333,
              "#9c179e"
             ],
             [
              0.4444444444444444,
              "#bd3786"
             ],
             [
              0.5555555555555556,
              "#d8576b"
             ],
             [
              0.6666666666666666,
              "#ed7953"
             ],
             [
              0.7777777777777778,
              "#fb9f3a"
             ],
             [
              0.8888888888888888,
              "#fdca26"
             ],
             [
              1,
              "#f0f921"
             ]
            ],
            "type": "histogram2dcontour"
           }
          ],
          "mesh3d": [
           {
            "colorbar": {
             "outlinewidth": 0,
             "ticks": ""
            },
            "type": "mesh3d"
           }
          ],
          "parcoords": [
           {
            "line": {
             "colorbar": {
              "outlinewidth": 0,
              "ticks": ""
             }
            },
            "type": "parcoords"
           }
          ],
          "pie": [
           {
            "automargin": true,
            "type": "pie"
           }
          ],
          "scatter": [
           {
            "marker": {
             "colorbar": {
              "outlinewidth": 0,
              "ticks": ""
             }
            },
            "type": "scatter"
           }
          ],
          "scatter3d": [
           {
            "line": {
             "colorbar": {
              "outlinewidth": 0,
              "ticks": ""
             }
            },
            "marker": {
             "colorbar": {
              "outlinewidth": 0,
              "ticks": ""
             }
            },
            "type": "scatter3d"
           }
          ],
          "scattercarpet": [
           {
            "marker": {
             "colorbar": {
              "outlinewidth": 0,
              "ticks": ""
             }
            },
            "type": "scattercarpet"
           }
          ],
          "scattergeo": [
           {
            "marker": {
             "colorbar": {
              "outlinewidth": 0,
              "ticks": ""
             }
            },
            "type": "scattergeo"
           }
          ],
          "scattergl": [
           {
            "marker": {
             "colorbar": {
              "outlinewidth": 0,
              "ticks": ""
             }
            },
            "type": "scattergl"
           }
          ],
          "scattermapbox": [
           {
            "marker": {
             "colorbar": {
              "outlinewidth": 0,
              "ticks": ""
             }
            },
            "type": "scattermapbox"
           }
          ],
          "scatterpolar": [
           {
            "marker": {
             "colorbar": {
              "outlinewidth": 0,
              "ticks": ""
             }
            },
            "type": "scatterpolar"
           }
          ],
          "scatterpolargl": [
           {
            "marker": {
             "colorbar": {
              "outlinewidth": 0,
              "ticks": ""
             }
            },
            "type": "scatterpolargl"
           }
          ],
          "scatterternary": [
           {
            "marker": {
             "colorbar": {
              "outlinewidth": 0,
              "ticks": ""
             }
            },
            "type": "scatterternary"
           }
          ],
          "surface": [
           {
            "colorbar": {
             "outlinewidth": 0,
             "ticks": ""
            },
            "colorscale": [
             [
              0,
              "#0d0887"
             ],
             [
              0.1111111111111111,
              "#46039f"
             ],
             [
              0.2222222222222222,
              "#7201a8"
             ],
             [
              0.3333333333333333,
              "#9c179e"
             ],
             [
              0.4444444444444444,
              "#bd3786"
             ],
             [
              0.5555555555555556,
              "#d8576b"
             ],
             [
              0.6666666666666666,
              "#ed7953"
             ],
             [
              0.7777777777777778,
              "#fb9f3a"
             ],
             [
              0.8888888888888888,
              "#fdca26"
             ],
             [
              1,
              "#f0f921"
             ]
            ],
            "type": "surface"
           }
          ],
          "table": [
           {
            "cells": {
             "fill": {
              "color": "#EBF0F8"
             },
             "line": {
              "color": "white"
             }
            },
            "header": {
             "fill": {
              "color": "#C8D4E3"
             },
             "line": {
              "color": "white"
             }
            },
            "type": "table"
           }
          ]
         },
         "layout": {
          "annotationdefaults": {
           "arrowcolor": "#2a3f5f",
           "arrowhead": 0,
           "arrowwidth": 1
          },
          "autotypenumbers": "strict",
          "coloraxis": {
           "colorbar": {
            "outlinewidth": 0,
            "ticks": ""
           }
          },
          "colorscale": {
           "diverging": [
            [
             0,
             "#8e0152"
            ],
            [
             0.1,
             "#c51b7d"
            ],
            [
             0.2,
             "#de77ae"
            ],
            [
             0.3,
             "#f1b6da"
            ],
            [
             0.4,
             "#fde0ef"
            ],
            [
             0.5,
             "#f7f7f7"
            ],
            [
             0.6,
             "#e6f5d0"
            ],
            [
             0.7,
             "#b8e186"
            ],
            [
             0.8,
             "#7fbc41"
            ],
            [
             0.9,
             "#4d9221"
            ],
            [
             1,
             "#276419"
            ]
           ],
           "sequential": [
            [
             0,
             "#0d0887"
            ],
            [
             0.1111111111111111,
             "#46039f"
            ],
            [
             0.2222222222222222,
             "#7201a8"
            ],
            [
             0.3333333333333333,
             "#9c179e"
            ],
            [
             0.4444444444444444,
             "#bd3786"
            ],
            [
             0.5555555555555556,
             "#d8576b"
            ],
            [
             0.6666666666666666,
             "#ed7953"
            ],
            [
             0.7777777777777778,
             "#fb9f3a"
            ],
            [
             0.8888888888888888,
             "#fdca26"
            ],
            [
             1,
             "#f0f921"
            ]
           ],
           "sequentialminus": [
            [
             0,
             "#0d0887"
            ],
            [
             0.1111111111111111,
             "#46039f"
            ],
            [
             0.2222222222222222,
             "#7201a8"
            ],
            [
             0.3333333333333333,
             "#9c179e"
            ],
            [
             0.4444444444444444,
             "#bd3786"
            ],
            [
             0.5555555555555556,
             "#d8576b"
            ],
            [
             0.6666666666666666,
             "#ed7953"
            ],
            [
             0.7777777777777778,
             "#fb9f3a"
            ],
            [
             0.8888888888888888,
             "#fdca26"
            ],
            [
             1,
             "#f0f921"
            ]
           ]
          },
          "colorway": [
           "#636efa",
           "#EF553B",
           "#00cc96",
           "#ab63fa",
           "#FFA15A",
           "#19d3f3",
           "#FF6692",
           "#B6E880",
           "#FF97FF",
           "#FECB52"
          ],
          "font": {
           "color": "#2a3f5f"
          },
          "geo": {
           "bgcolor": "white",
           "lakecolor": "white",
           "landcolor": "#E5ECF6",
           "showlakes": true,
           "showland": true,
           "subunitcolor": "white"
          },
          "hoverlabel": {
           "align": "left"
          },
          "hovermode": "closest",
          "mapbox": {
           "style": "light"
          },
          "paper_bgcolor": "white",
          "plot_bgcolor": "#E5ECF6",
          "polar": {
           "angularaxis": {
            "gridcolor": "white",
            "linecolor": "white",
            "ticks": ""
           },
           "bgcolor": "#E5ECF6",
           "radialaxis": {
            "gridcolor": "white",
            "linecolor": "white",
            "ticks": ""
           }
          },
          "scene": {
           "xaxis": {
            "backgroundcolor": "#E5ECF6",
            "gridcolor": "white",
            "gridwidth": 2,
            "linecolor": "white",
            "showbackground": true,
            "ticks": "",
            "zerolinecolor": "white"
           },
           "yaxis": {
            "backgroundcolor": "#E5ECF6",
            "gridcolor": "white",
            "gridwidth": 2,
            "linecolor": "white",
            "showbackground": true,
            "ticks": "",
            "zerolinecolor": "white"
           },
           "zaxis": {
            "backgroundcolor": "#E5ECF6",
            "gridcolor": "white",
            "gridwidth": 2,
            "linecolor": "white",
            "showbackground": true,
            "ticks": "",
            "zerolinecolor": "white"
           }
          },
          "shapedefaults": {
           "line": {
            "color": "#2a3f5f"
           }
          },
          "ternary": {
           "aaxis": {
            "gridcolor": "white",
            "linecolor": "white",
            "ticks": ""
           },
           "baxis": {
            "gridcolor": "white",
            "linecolor": "white",
            "ticks": ""
           },
           "bgcolor": "#E5ECF6",
           "caxis": {
            "gridcolor": "white",
            "linecolor": "white",
            "ticks": ""
           }
          },
          "title": {
           "x": 0.05
          },
          "xaxis": {
           "automargin": true,
           "gridcolor": "white",
           "linecolor": "white",
           "ticks": "",
           "title": {
            "standoff": 15
           },
           "zerolinecolor": "white",
           "zerolinewidth": 2
          },
          "yaxis": {
           "automargin": true,
           "gridcolor": "white",
           "linecolor": "white",
           "ticks": "",
           "title": {
            "standoff": 15
           },
           "zerolinecolor": "white",
           "zerolinewidth": 2
          }
         }
        },
        "title": {
         "text": "Interactive map of the countries we tried in this challenge",
         "x": 0.5,
         "xanchor": "center",
         "y": 0.9,
         "yanchor": "top"
        },
        "width": 1000
       }
      },
      "text/html": [
       "<div>                            <div id=\"d8e332cc-06ec-4248-96da-8ec98461888c\" class=\"plotly-graph-div\" style=\"height:500px; width:1000px;\"></div>            <script type=\"text/javascript\">                require([\"plotly\"], function(Plotly) {                    window.PLOTLYENV=window.PLOTLYENV || {};                                    if (document.getElementById(\"d8e332cc-06ec-4248-96da-8ec98461888c\")) {                    Plotly.newPlot(                        \"d8e332cc-06ec-4248-96da-8ec98461888c\",                        [{\"colorscale\": [[0.0, \"mediumseagreen\"], [1.0, \"mediumseagreen\"]], \"customdata\": [[\"Taiwan\", \"YES\"], [\"French Polynesia\", \"YES\"], [\"Japan\", \"YES\"], [\"Philippines\", \"YES\"], [\"Zambia\", \"YES\"]], \"geo\": \"geo\", \"hovertemplate\": \"<b>%{hovertext}</b><br><br>TRIED=%{customdata[1]}<br>CODE=%{location}<br>COUNTRY=%{customdata[0]}<extra></extra>\", \"hovertext\": [\"Beef noodle soup\", null, \"Sushi\", \"Adobo\", \"Nshima\"], \"locations\": [\"TWN\", \"PYF\", \"JPN\", \"PHL\", \"ZMB\"], \"name\": \"YES\", \"showlegend\": true, \"showscale\": false, \"type\": \"choropleth\", \"z\": [1, 1, 1, 1, 1]}, {\"colorscale\": [[0.0, \"lightsalmon\"], [1.0, \"lightsalmon\"]], \"customdata\": [[\"Afghanistan\", \"NO\"], [\"Albania\", \"NO\"], [\"Algeria\", \"NO\"], [\"American Samoa\", \"NO\"], [\"Andorra\", \"NO\"], [\"Angola\", \"NO\"], [\"Anguilla\", \"NO\"], [\"Antarctica\", \"NO\"], [\"Antigua & Barbuda\", \"NO\"], [\"Argentina\", \"NO\"], [\"Armenia\", \"NO\"], [\"Aruba\", \"NO\"], [\"Australia\", \"NO\"], [\"Austria\", \"NO\"], [\"Azerbaijan\", \"NO\"], [\"Bahamas\", \"NO\"], [\"Bahrain\", \"NO\"], [\"Bangladesh\", \"NO\"], [\"Barbados\", \"NO\"], [\"Belarus\", \"NO\"], [\"Belgium\", \"NO\"], [\"Belize\", \"NO\"], [\"Benin\", \"NO\"], [\"Bermuda\", \"NO\"], [\"Bhutan\", \"NO\"], [\"Bolivia\", \"NO\"], [\"Caribbean Netherlands\", \"NO\"], [\"Bosnia\", \"NO\"], [\"Botswana\", \"NO\"], [\"Bouvet Island\", \"NO\"], [\"Brazil\", \"NO\"], [\"British Indian Ocean Territory\", \"NO\"], [\"British Virgin Islands\", \"NO\"], [\"Brunei\", \"NO\"], [\"Bulgaria\", \"NO\"], [\"Burkina Faso\", \"NO\"], [\"Burundi\", \"NO\"], [\"Cape Verde\", \"NO\"], [\"Cambodia\", \"NO\"], [\"Cameroon\", \"NO\"], [\"Canada\", \"NO\"], [\"Cayman Islands\", \"NO\"], [\"Central African Republic\", \"NO\"], [\"Chad\", \"NO\"], [\"Chile\", \"NO\"], [\"China\", \"NO\"], [\"Hong Kong\", \"NO\"], [\"Macau\", \"NO\"], [\"Christmas Island\", \"NO\"], [\"Cocos (Keeling) Islands\", \"NO\"], [\"Colombia\", \"NO\"], [\"Comoros\", \"NO\"], [\"Congo - Brazzaville\", \"NO\"], [\"Cook Islands\", \"NO\"], [\"Costa Rica\", \"NO\"], [\"Croatia\", \"NO\"], [\"Cuba\", \"NO\"], [\"Cura\\u00e7ao\", \"NO\"], [\"Cyprus\", \"NO\"], [\"Czechia\", \"NO\"], [\"C\\u00f4te d\\u2019Ivoire\", \"NO\"], [\"North Korea\", \"NO\"], [\"Congo - Kinshasa\", \"NO\"], [\"Denmark\", \"NO\"], [\"Djibouti\", \"NO\"], [\"Dominica\", \"NO\"], [\"Dominican Republic\", \"NO\"], [\"Ecuador\", \"NO\"], [\"Egypt\", \"NO\"], [\"El Salvador\", \"NO\"], [\"Equatorial Guinea\", \"NO\"], [\"Eritrea\", \"NO\"], [\"Estonia\", \"NO\"], [\"Eswatini\", \"NO\"], [\"Ethiopia\", \"NO\"], [\"Falkland Islands\", \"NO\"], [\"Faroe Islands\", \"NO\"], [\"Fiji\", \"NO\"], [\"Finland\", \"NO\"], [\"France\", \"NO\"], [\"French Guiana\", \"NO\"], [\"French Southern Territories\", \"NO\"], [\"Gabon\", \"NO\"], [\"Gambia\", \"NO\"], [\"Georgia\", \"NO\"], [\"Germany\", \"NO\"], [\"Ghana\", \"NO\"], [\"Gibraltar\", \"NO\"], [\"Greece\", \"NO\"], [\"Greenland\", \"NO\"], [\"Grenada\", \"NO\"], [\"Guadeloupe\", \"NO\"], [\"Guam\", \"NO\"], [\"Guatemala\", \"NO\"], [\"Guernsey\", \"NO\"], [\"Guinea\", \"NO\"], [\"Guinea-Bissau\", \"NO\"], [\"Guyana\", \"NO\"], [\"Haiti\", \"NO\"], [\"Heard & McDonald Islands\", \"NO\"], [\"Vatican City\", \"NO\"], [\"Honduras\", \"NO\"], [\"Hungary\", \"NO\"], [\"Iceland\", \"NO\"], [\"India\", \"NO\"], [\"Indonesia\", \"NO\"], [\"Iran\", \"NO\"], [\"Iraq\", \"NO\"], [\"Ireland\", \"NO\"], [\"Isle of Man\", \"NO\"], [\"Israel\", \"NO\"], [\"Italy\", \"NO\"], [\"Jamaica\", \"NO\"], [\"Jersey\", \"NO\"], [\"Jordan\", \"NO\"], [\"Kazakhstan\", \"NO\"], [\"Kenya\", \"NO\"], [\"Kiribati\", \"NO\"], [\"Kuwait\", \"NO\"], [\"Kyrgyzstan\", \"NO\"], [\"Laos\", \"NO\"], [\"Latvia\", \"NO\"], [\"Lebanon\", \"NO\"], [\"Lesotho\", \"NO\"], [\"Liberia\", \"NO\"], [\"Libya\", \"NO\"], [\"Liechtenstein\", \"NO\"], [\"Lithuania\", \"NO\"], [\"Luxembourg\", \"NO\"], [\"Madagascar\", \"NO\"], [\"Malawi\", \"NO\"], [\"Malaysia\", \"NO\"], [\"Maldives\", \"NO\"], [\"Mali\", \"NO\"], [\"Malta\", \"NO\"], [\"Marshall Islands\", \"NO\"], [\"Martinique\", \"NO\"], [\"Mauritania\", \"NO\"], [\"Mauritius\", \"NO\"], [\"Mayotte\", \"NO\"], [\"Mexico\", \"NO\"], [\"Micronesia\", \"NO\"], [\"Monaco\", \"NO\"], [\"Mongolia\", \"NO\"], [\"Montenegro\", \"NO\"], [\"Montserrat\", \"NO\"], [\"Morocco\", \"NO\"], [\"Mozambique\", \"NO\"], [\"Myanmar\", \"NO\"], [\"Namibia\", \"NO\"], [\"Nauru\", \"NO\"], [\"Nepal\", \"NO\"], [\"Netherlands\", \"NO\"], [\"New Caledonia\", \"NO\"], [\"New Zealand\", \"NO\"], [\"Nicaragua\", \"NO\"], [\"Niger\", \"NO\"], [\"Nigeria\", \"NO\"], [\"Niue\", \"NO\"], [\"Norfolk Island\", \"NO\"], [\"Northern Mariana Islands\", \"NO\"], [\"Norway\", \"NO\"], [\"Oman\", \"NO\"], [\"Pakistan\", \"NO\"], [\"Palau\", \"NO\"], [\"Panama\", \"NO\"], [\"Papua New Guinea\", \"NO\"], [\"Paraguay\", \"NO\"], [\"Peru\", \"NO\"], [\"Pitcairn Islands\", \"NO\"], [\"Poland\", \"NO\"], [\"Portugal\", \"NO\"], [\"Puerto Rico\", \"NO\"], [\"Qatar\", \"NO\"], [\"South Korea\", \"NO\"], [\"Moldova\", \"NO\"], [\"Romania\", \"NO\"], [\"Russia\", \"NO\"], [\"Rwanda\", \"NO\"], [\"R\\u00e9union\", \"NO\"], [\"St. Barth\\u00e9lemy\", \"NO\"], [\"St. Helena\", \"NO\"], [\"St. Kitts & Nevis\", \"NO\"], [\"St. Lucia\", \"NO\"], [\"St. Martin\", \"NO\"], [\"St. Pierre & Miquelon\", \"NO\"], [\"St. Vincent & Grenadines\", \"NO\"], [\"Samoa\", \"NO\"], [\"San Marino\", \"NO\"], [\"S\\u00e3o Tom\\u00e9 & Pr\\u00edncipe\", \"NO\"], [null, \"NO\"], [\"Saudi Arabia\", \"NO\"], [\"Senegal\", \"NO\"], [\"Serbia\", \"NO\"], [\"Seychelles\", \"NO\"], [\"Sierra Leone\", \"NO\"], [\"Singapore\", \"NO\"], [\"Sint Maarten\", \"NO\"], [\"Slovakia\", \"NO\"], [\"Slovenia\", \"NO\"], [\"Solomon Islands\", \"NO\"], [\"Somalia\", \"NO\"], [\"South Africa\", \"NO\"], [\"South Georgia & South Sandwich Islands\", \"NO\"], [\"South Sudan\", \"NO\"], [\"Spain\", \"NO\"], [\"Sri Lanka\", \"NO\"], [\"Palestine\", \"NO\"], [\"Sudan\", \"NO\"], [\"Suriname\", \"NO\"], [\"Svalbard & Jan Mayen\", \"NO\"], [\"Sweden\", \"NO\"], [\"Switzerland\", \"NO\"], [\"Syria\", \"NO\"], [\"Tajikistan\", \"NO\"], [\"Thailand\", \"NO\"], [\"North Macedonia\", \"NO\"], [\"Timor-Leste\", \"NO\"], [\"Togo\", \"NO\"], [\"Tokelau\", \"NO\"], [\"Tonga\", \"NO\"], [\"Trinidad & Tobago\", \"NO\"], [\"Tunisia\", \"NO\"], [\"Turkey\", \"NO\"], [\"Turkmenistan\", \"NO\"], [\"Turks & Caicos Islands\", \"NO\"], [\"Tuvalu\", \"NO\"], [\"Uganda\", \"NO\"], [\"Ukraine\", \"NO\"], [\"United Arab Emirates\", \"NO\"], [\"UK\", \"NO\"], [\"Tanzania\", \"NO\"], [\"U.S. Outlying Islands\", \"NO\"], [\"U.S. Virgin Islands\", \"NO\"], [\"US\", \"NO\"], [\"Uruguay\", \"NO\"], [\"Uzbekistan\", \"NO\"], [\"Vanuatu\", \"NO\"], [\"Venezuela\", \"NO\"], [\"Vietnam\", \"NO\"], [\"Wallis & Futuna\", \"NO\"], [\"Western Sahara\", \"NO\"], [\"Yemen\", \"NO\"], [\"Zimbabwe\", \"NO\"], [\"\\u00c5land Islands\", \"NO\"]], \"geo\": \"geo\", \"hovertemplate\": \"<b>%{hovertext}</b><br><br>TRIED=%{customdata[1]}<br>CODE=%{location}<br>COUNTRY=%{customdata[0]}<extra></extra>\", \"hovertext\": [\"Kabuli palaw\", \"Tav\\u00eb kosi\", \"Couscous\", \"Palusami\", \"Escudella i carn d'olla\", \"Poulet \\u00e0 la moamb\\u00e9\", null, null, null, \"Asado\", \"Harisa\", null, \"Roast lamb\", \"Wiener schnitzel\", \"Tolma\", \"Crack conch with peas and rice\", \"Kabsa\", \"Rice and fish (particularly ilish)\", \"Cou-cou and flying fish\", null, \"Frites\", null, null, null, \"Ema datshi\", \"Salte\\u00f1as\", null, null, \"Seswaa\", null, \"Feijoada\", null, null, \"Ambuyat\", null, null, null, null, \"Amok trey\", \"Ndole\", \"Poutine\", null, null, null, \"Empanada\", null, \"Dim sum\", \"Minchee\", null, null, \"Ajiaco\", \"Langouste a la vanille\", null, null, \"Gallo Pinto\", \"Zagorski \\u0160trukli\", \"Ropa vieja\", null, \"Souvla\", null, null, \"Raengmyeon\", null, \"Stegt Fl\\u00e6sk\", null, \"Mountain chicken (historical) Callaloo\", \"La bandera (rice beans and meat)\", \"Encebollado\", \"Ful medames\", \"Pupusa\", null, \"Zigini with injera\", null, null, \"Doro wat with injera\", null, null, null, \"Karjalanpaisti\", \"Pot-au-feu\", null, null, \"Poulet Nyembwe\", null, \"Khachapuri\", \"Sauerbraten\", null, null, \"Horiatiki\", null, \"Oil down\", null, \"Kelaguen\", null, null, null, null, \"Pepperpot Cook-up rice and Chicken curry\", null, null, null, null, \"Guly\\u00e1s\", \"Lamb\", \"Officially none\", \"Nasi goreng\", \"Abgoosht\", \"Masgouf\", \"Breakfast roll\", null, \"Falafel ( served in pita)\", \"Pasta\", \"Ackee and Saltfish Jerk chicken\", null, \"Mansaf\", \"Beshbarmak\", \"Ugali with sukuma wiki\", null, null, \"Beshbarmak\", \"Larb/Laap\", \"Layered rye bread\", \"Kibbeh\", null, null, null, null, \"Cepelinai\", \"Judd mat Gaardebounen\", \"Romazava\", \"Chambo with nshima\", \"Nasi lemak\", null, null, \"Stuffat tal-fenek\", null, null, null, \"Dholl puri (flatbread stuffed with lentils)\", null, \"Taco\", null, \"Barbagiuan\", null, null, null, \"Couscous\", null, \"Mohinga\", null, null, \"Dal bhat\", \"Stamppot\", null, \"Meat pie\", \"Nacatamal\", null, \"Tuwo shinkafa\", null, null, \"Kelaguen\", \"F\\u00e5rik\\u00e5l\", \"Shuwa\", \"Nihari\", null, \"Sancocho\", null, null, \"Ceviche\", null, \"Bigos\", \"Bacalhau\", \"Lechon\", \"Machboos\", \"Kimchi\", null, \"M\\u0103m\\u0103lig\\u0103\", \"Borscht\", null, null, null, null, null, null, null, null, null, null, null, null, null, \"Kabsa\", \"Thieboudienne\", \"\\u0106evap\\u010di\\u0107i\", null, null, \"Chilli crab\", null, \"Bryndzov\\u00e9 halu\\u0161ky\", \"Buckwheat dumplings\", null, null, \"Bobotie\", null, null, \"Tortilla de patatas\", \"Rice and curry\", \"Maqluba\", null, \"Pom\", null, \"K\\u00f6ttbullar\", \"Cervelat\", \"Kibbeh\", \"Osh Palov\", \"Pad Thai Tom yum\", null, null, null, null, null, null, \"Kosksi\", \"Kuru fasulye with pilaf/pilau\", null, null, null, \"Matooke\", \"Borscht\", \"Harees\", null, \"Ugali\", null, null, null, \"Chivito\", \"O'sh\", \"Laplap\", \"Pabell\\u00f3n criollo\", \"Ph\\u1edf\", null, null, \"Saltah\", \"Sadza\", null], \"locations\": [\"AFG\", \"ALB\", \"DZA\", \"ASM\", \"AND\", \"AGO\", \"AIA\", \"ATA\", \"ATG\", \"ARG\", \"ARM\", \"ABW\", \"AUS\", \"AUT\", \"AZE\", \"BHS\", \"BHR\", \"BGD\", \"BRB\", \"BLR\", \"BEL\", \"BLZ\", \"BEN\", \"BMU\", \"BTN\", \"BOL\", \"BES\", \"BIH\", \"BWA\", \"BVT\", \"BRA\", \"IOT\", \"VGB\", \"BRN\", \"BGR\", \"BFA\", \"BDI\", \"CPV\", \"KHM\", \"CMR\", \"CAN\", \"CYM\", \"CAF\", \"TCD\", \"CHL\", \"CHN\", \"HKG\", \"MAC\", \"CXR\", \"CCK\", \"COL\", \"COM\", \"COG\", \"COK\", \"CRI\", \"HRV\", \"CUB\", \"CUW\", \"CYP\", \"CZE\", \"CIV\", \"PRK\", \"COD\", \"DNK\", \"DJI\", \"DMA\", \"DOM\", \"ECU\", \"EGY\", \"SLV\", \"GNQ\", \"ERI\", \"EST\", \"SWZ\", \"ETH\", \"FLK\", \"FRO\", \"FJI\", \"FIN\", \"FRA\", \"GUF\", \"ATF\", \"GAB\", \"GMB\", \"GEO\", \"DEU\", \"GHA\", \"GIB\", \"GRC\", \"GRL\", \"GRD\", \"GLP\", \"GUM\", \"GTM\", \"GGY\", \"GIN\", \"GNB\", \"GUY\", \"HTI\", \"HMD\", \"VAT\", \"HND\", \"HUN\", \"ISL\", \"IND\", \"IDN\", \"IRN\", \"IRQ\", \"IRL\", \"IMN\", \"ISR\", \"ITA\", \"JAM\", \"JEY\", \"JOR\", \"KAZ\", \"KEN\", \"KIR\", \"KWT\", \"KGZ\", \"LAO\", \"LVA\", \"LBN\", \"LSO\", \"LBR\", \"LBY\", \"LIE\", \"LTU\", \"LUX\", \"MDG\", \"MWI\", \"MYS\", \"MDV\", \"MLI\", \"MLT\", \"MHL\", \"MTQ\", \"MRT\", \"MUS\", \"MYT\", \"MEX\", \"FSM\", \"MCO\", \"MNG\", \"MNE\", \"MSR\", \"MAR\", \"MOZ\", \"MMR\", \"NAM\", \"NRU\", \"NPL\", \"NLD\", \"NCL\", \"NZL\", \"NIC\", \"NER\", \"NGA\", \"NIU\", \"NFK\", \"MNP\", \"NOR\", \"OMN\", \"PAK\", \"PLW\", \"PAN\", \"PNG\", \"PRY\", \"PER\", \"PCN\", \"POL\", \"PRT\", \"PRI\", \"QAT\", \"KOR\", \"MDA\", \"ROU\", \"RUS\", \"RWA\", \"REU\", \"BLM\", \"SHN\", \"KNA\", \"LCA\", \"MAF\", \"SPM\", \"VCT\", \"WSM\", \"SMR\", \"STP\", null, \"SAU\", \"SEN\", \"SRB\", \"SYC\", \"SLE\", \"SGP\", \"SXM\", \"SVK\", \"SVN\", \"SLB\", \"SOM\", \"ZAF\", \"SGS\", \"SSD\", \"ESP\", \"LKA\", \"PSE\", \"SDN\", \"SUR\", \"SJM\", \"SWE\", \"CHE\", \"SYR\", \"TJK\", \"THA\", \"MKD\", \"TLS\", \"TGO\", \"TKL\", \"TON\", \"TTO\", \"TUN\", \"TUR\", \"TKM\", \"TCA\", \"TUV\", \"UGA\", \"UKR\", \"ARE\", \"GBR\", \"TZA\", \"UMI\", \"VIR\", \"USA\", \"URY\", \"UZB\", \"VUT\", \"VEN\", \"VNM\", \"WLF\", \"ESH\", \"YEM\", \"ZWE\", \"ALA\"], \"name\": \"NO\", \"showlegend\": true, \"showscale\": false, \"type\": \"choropleth\", \"z\": [1, 1, 1, 1, 1, 1, 1, 1, 1, 1, 1, 1, 1, 1, 1, 1, 1, 1, 1, 1, 1, 1, 1, 1, 1, 1, 1, 1, 1, 1, 1, 1, 1, 1, 1, 1, 1, 1, 1, 1, 1, 1, 1, 1, 1, 1, 1, 1, 1, 1, 1, 1, 1, 1, 1, 1, 1, 1, 1, 1, 1, 1, 1, 1, 1, 1, 1, 1, 1, 1, 1, 1, 1, 1, 1, 1, 1, 1, 1, 1, 1, 1, 1, 1, 1, 1, 1, 1, 1, 1, 1, 1, 1, 1, 1, 1, 1, 1, 1, 1, 1, 1, 1, 1, 1, 1, 1, 1, 1, 1, 1, 1, 1, 1, 1, 1, 1, 1, 1, 1, 1, 1, 1, 1, 1, 1, 1, 1, 1, 1, 1, 1, 1, 1, 1, 1, 1, 1, 1, 1, 1, 1, 1, 1, 1, 1, 1, 1, 1, 1, 1, 1, 1, 1, 1, 1, 1, 1, 1, 1, 1, 1, 1, 1, 1, 1, 1, 1, 1, 1, 1, 1, 1, 1, 1, 1, 1, 1, 1, 1, 1, 1, 1, 1, 1, 1, 1, 1, 1, 1, 1, 1, 1, 1, 1, 1, 1, 1, 1, 1, 1, 1, 1, 1, 1, 1, 1, 1, 1, 1, 1, 1, 1, 1, 1, 1, 1, 1, 1, 1, 1, 1, 1, 1, 1, 1, 1, 1, 1, 1, 1, 1, 1, 1, 1, 1, 1, 1, 1, 1, 1, 1, 1, 1, 1]}],                        {\"annotations\": [{\"bordercolor\": \"black\", \"showarrow\": false, \"text\": \"<b>Missing Countries</b><br>French Polynesia<br>\", \"x\": -0.18, \"xref\": \"paper\", \"y\": 0.5, \"yref\": \"paper\"}, {\"opacity\": 0.5, \"showarrow\": false, \"text\": \"typical foods from <a href=\\\"https://en.wikipedia.org/wiki/National_dish\\\">wikpedia</a>\", \"x\": 1.16, \"xref\": \"paper\", \"y\": 0, \"yref\": \"paper\"}], \"autosize\": false, \"geo\": {\"center\": {}, \"domain\": {\"x\": [0.0, 1.0], \"y\": [0.0, 1.0]}, \"projection\": {\"type\": \"natural earth\"}}, \"height\": 500, \"legend\": {\"title\": {\"text\": \"Did we try the food <br> of this country?\"}, \"tracegroupgap\": 0}, \"margin\": {\"b\": 20, \"l\": 150, \"r\": 20, \"t\": 20}, \"paper_bgcolor\": \"white\", \"template\": {\"data\": {\"bar\": [{\"error_x\": {\"color\": \"#2a3f5f\"}, \"error_y\": {\"color\": \"#2a3f5f\"}, \"marker\": {\"line\": {\"color\": \"#E5ECF6\", \"width\": 0.5}}, \"type\": \"bar\"}], \"barpolar\": [{\"marker\": {\"line\": {\"color\": \"#E5ECF6\", \"width\": 0.5}}, \"type\": \"barpolar\"}], \"carpet\": [{\"aaxis\": {\"endlinecolor\": \"#2a3f5f\", \"gridcolor\": \"white\", \"linecolor\": \"white\", \"minorgridcolor\": \"white\", \"startlinecolor\": \"#2a3f5f\"}, \"baxis\": {\"endlinecolor\": \"#2a3f5f\", \"gridcolor\": \"white\", \"linecolor\": \"white\", \"minorgridcolor\": \"white\", \"startlinecolor\": \"#2a3f5f\"}, \"type\": \"carpet\"}], \"choropleth\": [{\"colorbar\": {\"outlinewidth\": 0, \"ticks\": \"\"}, \"type\": \"choropleth\"}], \"contour\": [{\"colorbar\": {\"outlinewidth\": 0, \"ticks\": \"\"}, \"colorscale\": [[0.0, \"#0d0887\"], [0.1111111111111111, \"#46039f\"], [0.2222222222222222, \"#7201a8\"], [0.3333333333333333, \"#9c179e\"], [0.4444444444444444, \"#bd3786\"], [0.5555555555555556, \"#d8576b\"], [0.6666666666666666, \"#ed7953\"], [0.7777777777777778, \"#fb9f3a\"], [0.8888888888888888, \"#fdca26\"], [1.0, \"#f0f921\"]], \"type\": \"contour\"}], \"contourcarpet\": [{\"colorbar\": {\"outlinewidth\": 0, \"ticks\": \"\"}, \"type\": \"contourcarpet\"}], \"heatmap\": [{\"colorbar\": {\"outlinewidth\": 0, \"ticks\": \"\"}, \"colorscale\": [[0.0, \"#0d0887\"], [0.1111111111111111, \"#46039f\"], [0.2222222222222222, \"#7201a8\"], [0.3333333333333333, \"#9c179e\"], [0.4444444444444444, \"#bd3786\"], [0.5555555555555556, \"#d8576b\"], [0.6666666666666666, \"#ed7953\"], [0.7777777777777778, \"#fb9f3a\"], [0.8888888888888888, \"#fdca26\"], [1.0, \"#f0f921\"]], \"type\": \"heatmap\"}], \"heatmapgl\": [{\"colorbar\": {\"outlinewidth\": 0, \"ticks\": \"\"}, \"colorscale\": [[0.0, \"#0d0887\"], [0.1111111111111111, \"#46039f\"], [0.2222222222222222, \"#7201a8\"], [0.3333333333333333, \"#9c179e\"], [0.4444444444444444, \"#bd3786\"], [0.5555555555555556, \"#d8576b\"], [0.6666666666666666, \"#ed7953\"], [0.7777777777777778, \"#fb9f3a\"], [0.8888888888888888, \"#fdca26\"], [1.0, \"#f0f921\"]], \"type\": \"heatmapgl\"}], \"histogram\": [{\"marker\": {\"colorbar\": {\"outlinewidth\": 0, \"ticks\": \"\"}}, \"type\": \"histogram\"}], \"histogram2d\": [{\"colorbar\": {\"outlinewidth\": 0, \"ticks\": \"\"}, \"colorscale\": [[0.0, \"#0d0887\"], [0.1111111111111111, \"#46039f\"], [0.2222222222222222, \"#7201a8\"], [0.3333333333333333, \"#9c179e\"], [0.4444444444444444, \"#bd3786\"], [0.5555555555555556, \"#d8576b\"], [0.6666666666666666, \"#ed7953\"], [0.7777777777777778, \"#fb9f3a\"], [0.8888888888888888, \"#fdca26\"], [1.0, \"#f0f921\"]], \"type\": \"histogram2d\"}], \"histogram2dcontour\": [{\"colorbar\": {\"outlinewidth\": 0, \"ticks\": \"\"}, \"colorscale\": [[0.0, \"#0d0887\"], [0.1111111111111111, \"#46039f\"], [0.2222222222222222, \"#7201a8\"], [0.3333333333333333, \"#9c179e\"], [0.4444444444444444, \"#bd3786\"], [0.5555555555555556, \"#d8576b\"], [0.6666666666666666, \"#ed7953\"], [0.7777777777777778, \"#fb9f3a\"], [0.8888888888888888, \"#fdca26\"], [1.0, \"#f0f921\"]], \"type\": \"histogram2dcontour\"}], \"mesh3d\": [{\"colorbar\": {\"outlinewidth\": 0, \"ticks\": \"\"}, \"type\": \"mesh3d\"}], \"parcoords\": [{\"line\": {\"colorbar\": {\"outlinewidth\": 0, \"ticks\": \"\"}}, \"type\": \"parcoords\"}], \"pie\": [{\"automargin\": true, \"type\": \"pie\"}], \"scatter\": [{\"marker\": {\"colorbar\": {\"outlinewidth\": 0, \"ticks\": \"\"}}, \"type\": \"scatter\"}], \"scatter3d\": [{\"line\": {\"colorbar\": {\"outlinewidth\": 0, \"ticks\": \"\"}}, \"marker\": {\"colorbar\": {\"outlinewidth\": 0, \"ticks\": \"\"}}, \"type\": \"scatter3d\"}], \"scattercarpet\": [{\"marker\": {\"colorbar\": {\"outlinewidth\": 0, \"ticks\": \"\"}}, \"type\": \"scattercarpet\"}], \"scattergeo\": [{\"marker\": {\"colorbar\": {\"outlinewidth\": 0, \"ticks\": \"\"}}, \"type\": \"scattergeo\"}], \"scattergl\": [{\"marker\": {\"colorbar\": {\"outlinewidth\": 0, \"ticks\": \"\"}}, \"type\": \"scattergl\"}], \"scattermapbox\": [{\"marker\": {\"colorbar\": {\"outlinewidth\": 0, \"ticks\": \"\"}}, \"type\": \"scattermapbox\"}], \"scatterpolar\": [{\"marker\": {\"colorbar\": {\"outlinewidth\": 0, \"ticks\": \"\"}}, \"type\": \"scatterpolar\"}], \"scatterpolargl\": [{\"marker\": {\"colorbar\": {\"outlinewidth\": 0, \"ticks\": \"\"}}, \"type\": \"scatterpolargl\"}], \"scatterternary\": [{\"marker\": {\"colorbar\": {\"outlinewidth\": 0, \"ticks\": \"\"}}, \"type\": \"scatterternary\"}], \"surface\": [{\"colorbar\": {\"outlinewidth\": 0, \"ticks\": \"\"}, \"colorscale\": [[0.0, \"#0d0887\"], [0.1111111111111111, \"#46039f\"], [0.2222222222222222, \"#7201a8\"], [0.3333333333333333, \"#9c179e\"], [0.4444444444444444, \"#bd3786\"], [0.5555555555555556, \"#d8576b\"], [0.6666666666666666, \"#ed7953\"], [0.7777777777777778, \"#fb9f3a\"], [0.8888888888888888, \"#fdca26\"], [1.0, \"#f0f921\"]], \"type\": \"surface\"}], \"table\": [{\"cells\": {\"fill\": {\"color\": \"#EBF0F8\"}, \"line\": {\"color\": \"white\"}}, \"header\": {\"fill\": {\"color\": \"#C8D4E3\"}, \"line\": {\"color\": \"white\"}}, \"type\": \"table\"}]}, \"layout\": {\"annotationdefaults\": {\"arrowcolor\": \"#2a3f5f\", \"arrowhead\": 0, \"arrowwidth\": 1}, \"autotypenumbers\": \"strict\", \"coloraxis\": {\"colorbar\": {\"outlinewidth\": 0, \"ticks\": \"\"}}, \"colorscale\": {\"diverging\": [[0, \"#8e0152\"], [0.1, \"#c51b7d\"], [0.2, \"#de77ae\"], [0.3, \"#f1b6da\"], [0.4, \"#fde0ef\"], [0.5, \"#f7f7f7\"], [0.6, \"#e6f5d0\"], [0.7, \"#b8e186\"], [0.8, \"#7fbc41\"], [0.9, \"#4d9221\"], [1, \"#276419\"]], \"sequential\": [[0.0, \"#0d0887\"], [0.1111111111111111, \"#46039f\"], [0.2222222222222222, \"#7201a8\"], [0.3333333333333333, \"#9c179e\"], [0.4444444444444444, \"#bd3786\"], [0.5555555555555556, \"#d8576b\"], [0.6666666666666666, \"#ed7953\"], [0.7777777777777778, \"#fb9f3a\"], [0.8888888888888888, \"#fdca26\"], [1.0, \"#f0f921\"]], \"sequentialminus\": [[0.0, \"#0d0887\"], [0.1111111111111111, \"#46039f\"], [0.2222222222222222, \"#7201a8\"], [0.3333333333333333, \"#9c179e\"], [0.4444444444444444, \"#bd3786\"], [0.5555555555555556, \"#d8576b\"], [0.6666666666666666, \"#ed7953\"], [0.7777777777777778, \"#fb9f3a\"], [0.8888888888888888, \"#fdca26\"], [1.0, \"#f0f921\"]]}, \"colorway\": [\"#636efa\", \"#EF553B\", \"#00cc96\", \"#ab63fa\", \"#FFA15A\", \"#19d3f3\", \"#FF6692\", \"#B6E880\", \"#FF97FF\", \"#FECB52\"], \"font\": {\"color\": \"#2a3f5f\"}, \"geo\": {\"bgcolor\": \"white\", \"lakecolor\": \"white\", \"landcolor\": \"#E5ECF6\", \"showlakes\": true, \"showland\": true, \"subunitcolor\": \"white\"}, \"hoverlabel\": {\"align\": \"left\"}, \"hovermode\": \"closest\", \"mapbox\": {\"style\": \"light\"}, \"paper_bgcolor\": \"white\", \"plot_bgcolor\": \"#E5ECF6\", \"polar\": {\"angularaxis\": {\"gridcolor\": \"white\", \"linecolor\": \"white\", \"ticks\": \"\"}, \"bgcolor\": \"#E5ECF6\", \"radialaxis\": {\"gridcolor\": \"white\", \"linecolor\": \"white\", \"ticks\": \"\"}}, \"scene\": {\"xaxis\": {\"backgroundcolor\": \"#E5ECF6\", \"gridcolor\": \"white\", \"gridwidth\": 2, \"linecolor\": \"white\", \"showbackground\": true, \"ticks\": \"\", \"zerolinecolor\": \"white\"}, \"yaxis\": {\"backgroundcolor\": \"#E5ECF6\", \"gridcolor\": \"white\", \"gridwidth\": 2, \"linecolor\": \"white\", \"showbackground\": true, \"ticks\": \"\", \"zerolinecolor\": \"white\"}, \"zaxis\": {\"backgroundcolor\": \"#E5ECF6\", \"gridcolor\": \"white\", \"gridwidth\": 2, \"linecolor\": \"white\", \"showbackground\": true, \"ticks\": \"\", \"zerolinecolor\": \"white\"}}, \"shapedefaults\": {\"line\": {\"color\": \"#2a3f5f\"}}, \"ternary\": {\"aaxis\": {\"gridcolor\": \"white\", \"linecolor\": \"white\", \"ticks\": \"\"}, \"baxis\": {\"gridcolor\": \"white\", \"linecolor\": \"white\", \"ticks\": \"\"}, \"bgcolor\": \"#E5ECF6\", \"caxis\": {\"gridcolor\": \"white\", \"linecolor\": \"white\", \"ticks\": \"\"}}, \"title\": {\"x\": 0.05}, \"xaxis\": {\"automargin\": true, \"gridcolor\": \"white\", \"linecolor\": \"white\", \"ticks\": \"\", \"title\": {\"standoff\": 15}, \"zerolinecolor\": \"white\", \"zerolinewidth\": 2}, \"yaxis\": {\"automargin\": true, \"gridcolor\": \"white\", \"linecolor\": \"white\", \"ticks\": \"\", \"title\": {\"standoff\": 15}, \"zerolinecolor\": \"white\", \"zerolinewidth\": 2}}}, \"title\": {\"text\": \"Interactive map of the countries we tried in this challenge\", \"x\": 0.5, \"xanchor\": \"center\", \"y\": 0.9, \"yanchor\": \"top\"}, \"width\": 1000},                        {\"responsive\": true}                    ).then(function(){\n",
       "                            \n",
       "var gd = document.getElementById('d8e332cc-06ec-4248-96da-8ec98461888c');\n",
       "var x = new MutationObserver(function (mutations, observer) {{\n",
       "        var display = window.getComputedStyle(gd).display;\n",
       "        if (!display || display === 'none') {{\n",
       "            console.log([gd, 'removed!']);\n",
       "            Plotly.purge(gd);\n",
       "            observer.disconnect();\n",
       "        }}\n",
       "}});\n",
       "\n",
       "// Listen for the removal of the full notebook cells\n",
       "var notebookContainer = gd.closest('#notebook-container');\n",
       "if (notebookContainer) {{\n",
       "    x.observe(notebookContainer, {childList: true});\n",
       "}}\n",
       "\n",
       "// Listen for the clearing of the current output cell\n",
       "var outputEl = gd.closest('.output');\n",
       "if (outputEl) {{\n",
       "    x.observe(outputEl, {childList: true});\n",
       "}}\n",
       "\n",
       "                        })                };                });            </script>        </div>"
      ]
     },
     "metadata": {},
     "output_type": "display_data"
    }
   ],
   "source": [
    "fig = px.choropleth(df, locations='CODE', color= 'TRIED', hover_name='FOOD',\n",
    "                    hover_data=['COUNTRY', 'TRIED'],\n",
    "                        projection=\"natural earth\",\n",
    "                    color_discrete_map={\"NO\": \"lightsalmon\", \"YES\": \"mediumseagreen\"},\n",
    "                          )\n",
    "fig.update_layout(\n",
    "    margin=dict(l=150, r=20, t=20, b=20),\n",
    "    paper_bgcolor=\"white\",\n",
    "    autosize=False,\n",
    "    width=1000,\n",
    "    height=500,\n",
    "    legend_title_text='Did we try the food <br> of this country?',\n",
    "    title={\n",
    "        'text': \"Interactive map of the countries we tried in this challenge\",\n",
    "        'y':0.9,\n",
    "        'x':0.5,\n",
    "        'xanchor': 'center',\n",
    "        'yanchor': 'top'}\n",
    ")\n",
    "fig.add_annotation(x=-0.18, y=0.5, bordercolor='black', xref='paper', yref='paper',\n",
    "                   text=\"<b>Missing Countries</b>\"+missing_countries, showarrow=False)\n",
    "fig.add_annotation(x=1.16, y=0, xref='paper', yref='paper',\n",
    "                   text='typical foods from <a href=\"https://en.wikipedia.org/wiki/National_dish\">wikpedia</a>', showarrow=False, opacity=0.5)\n",
    "# fig.update_layout(showlegend=False)\n",
    "fig.write_html(\"D:/Documents/_BIOLOGISTSADVENTURE/biologistsadventure/_includes/map.html\")\n",
    "fig.write_html(\"data/map.html\")\n",
    "fig.show()"
   ]
  }
 ],
 "metadata": {
  "kernelspec": {
   "display_name": "Python 3",
   "language": "python",
   "name": "python3"
  },
  "language_info": {
   "codemirror_mode": {
    "name": "ipython",
    "version": 3
   },
   "file_extension": ".py",
   "mimetype": "text/x-python",
   "name": "python",
   "nbconvert_exporter": "python",
   "pygments_lexer": "ipython3",
   "version": "3.7.6"
  }
 },
 "nbformat": 4,
 "nbformat_minor": 4
}
