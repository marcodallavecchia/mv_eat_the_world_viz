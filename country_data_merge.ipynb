{
 "cells": [
  {
   "cell_type": "code",
   "execution_count": 1,
   "metadata": {},
   "outputs": [],
   "source": [
    "import pandas as pd\n",
    "import numpy as np"
   ]
  },
  {
   "cell_type": "code",
   "execution_count": 23,
   "metadata": {},
   "outputs": [
    {
     "name": "stdout",
     "output_type": "stream",
     "text": [
      "(151, 2)\n",
      "(250, 2)\n"
     ]
    }
   ],
   "source": [
    "df_codes = pd.read_csv(\"data/country-codes_csv.csv\")\n",
    "df_food = pd.read_csv(\"data/national_dish_by_country.csv\")\n",
    "# print(df.columns)\n",
    "df_codes = df_codes[['ISO3166-1-Alpha-3', 'CLDR display name']]\n",
    "df_codes.columns = ['CODE', 'COUNTRY']\n",
    "print(df_food.shape)\n",
    "print(df_codes.shape)"
   ]
  },
  {
   "cell_type": "code",
   "execution_count": 24,
   "metadata": {},
   "outputs": [],
   "source": [
    "df_all = df_codes.merge(df_food, on='COUNTRY', how='left')\n",
    "df_all.to_csv('data/country_codes_food.csv', index=False)"
   ]
  }
 ],
 "metadata": {
  "kernelspec": {
   "display_name": "Python 3",
   "language": "python",
   "name": "python3"
  },
  "language_info": {
   "codemirror_mode": {
    "name": "ipython",
    "version": 3
   },
   "file_extension": ".py",
   "mimetype": "text/x-python",
   "name": "python",
   "nbconvert_exporter": "python",
   "pygments_lexer": "ipython3",
   "version": "3.7.6"
  }
 },
 "nbformat": 4,
 "nbformat_minor": 4
}
